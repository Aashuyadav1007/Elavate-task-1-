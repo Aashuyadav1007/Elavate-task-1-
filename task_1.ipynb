{
 "cells": [
  {
   "cell_type": "code",
   "execution_count": null,
   "id": "f839393a",
   "metadata": {},
   "outputs": [],
   "source": [
    "import pandas as pd\n",
    "\n",
    "\n",
    "df = pd.read_csv('sales_data.csv', encoding='latin1')\n",
    "df\n"
   ]
  },
  {
   "cell_type": "markdown",
   "id": "e0da3105",
   "metadata": {},
   "source": [
    "## Identify and handle missing values"
   ]
  },
  {
   "cell_type": "code",
   "execution_count": null,
   "id": "4ea0f6bd",
   "metadata": {},
   "outputs": [],
   "source": [
    "missing_values = df.isnull().sum().value_counts()\n",
    "\n",
    "df['PRICEEACH'] = df['PRICEEACH'].fillna(df['PRICEEACH'].mean())\n",
    "df['QUANTITYORDERED']= df['QUANTITYORDERED'].fillna(df['QUANTITYORDERED'].mean())\n",
    "df['SALES'] = df['SALES'].fillna(df['SALES'].mean())\n",
    "\n",
    "df['ADDRESSLINE2'] = df['ADDRESSLINE2'].fillna('N/A')  \n",
    "df['COUNTRY'] = df['COUNTRY'].fillna(\"unknown\")\n",
    "df['TERRITORY'] = df['TERRITORY'].bfill()\n",
    "df\n",
    "\n"
   ]
  },
  {
   "cell_type": "code",
   "execution_count": null,
   "id": "5be2e55f",
   "metadata": {},
   "outputs": [],
   "source": [
    "df.isnull().sum()\n"
   ]
  },
  {
   "cell_type": "markdown",
   "id": "9388eb89",
   "metadata": {},
   "source": [
    "## Remove duplicate rows using .drop_duplicates()"
   ]
  },
  {
   "cell_type": "code",
   "execution_count": 67,
   "id": "56f7c735",
   "metadata": {},
   "outputs": [
    {
     "data": {
      "text/plain": [
       "0"
      ]
     },
     "execution_count": 67,
     "metadata": {},
     "output_type": "execute_result"
    }
   ],
   "source": [
    "df.duplicated().sum()"
   ]
  },
  {
   "cell_type": "markdown",
   "id": "42ee8bdd",
   "metadata": {},
   "source": [
    "## Standardize text values like gender, country names, etc"
   ]
  },
  {
   "cell_type": "code",
   "execution_count": null,
   "id": "778015cc",
   "metadata": {},
   "outputs": [],
   "source": [
    "df['CITY'] = df['CITY'].str.strip().str.lower()\n",
    "df['CITY'] = df['CITY'].str.strip().str.upper()\n"
   ]
  },
  {
   "cell_type": "code",
   "execution_count": 89,
   "id": "41f81706",
   "metadata": {},
   "outputs": [],
   "source": [
    "df['Full Name'] = 'DefaultValue'\n",
    "df['Full Name'] = df['CONTACTFIRSTNAME'].str.strip().str.title() + ' ' + df['CONTACTLASTNAME'].str.strip().str.title()\n",
    "df\n",
    "df.drop(['CONTACTLASTNAME' ,'CONTACTFIRSTNAME'] , inplace=True , axis=1)"
   ]
  },
  {
   "cell_type": "code",
   "execution_count": null,
   "id": "ed108af8",
   "metadata": {},
   "outputs": [],
   "source": [
    "\n",
    "cols = list(df.columns)\n",
    "\n",
    "cols.insert(1, cols.pop(cols.index('Full Name')))\n",
    "\n",
    "df = df[cols]\n",
    "df\n"
   ]
  },
  {
   "cell_type": "markdown",
   "id": "8b066523",
   "metadata": {},
   "source": [
    "## Convert date formats to a consistent type (e.g., dd-mm-yyyy).\n"
   ]
  },
  {
   "cell_type": "code",
   "execution_count": null,
   "id": "2f7a740e",
   "metadata": {},
   "outputs": [],
   "source": [
    "df['ORDERDATE'] = pd.to_datetime(df['ORDERDATE'], errors='coerce')\n",
    "df['ORDERDATE'] = df['ORDERDATE'].dt.strftime('%d-%m-%Y')\n",
    "df"
   ]
  },
  {
   "cell_type": "markdown",
   "id": "12cc2729",
   "metadata": {},
   "source": [
    "## Rename column headers to be clean and uniform (e.g., lowercase, no spaces).\n"
   ]
  },
  {
   "cell_type": "code",
   "execution_count": null,
   "id": "da14bd7d",
   "metadata": {},
   "outputs": [],
   "source": [
    "df.columns = df.columns.str.strip().str.lower().str.replace(' ', '_')\n",
    "df.rename(columns={'orderdate': 'order_date'}, inplace=True)\n",
    "df\n"
   ]
  },
  {
   "cell_type": "markdown",
   "id": "798c8e46",
   "metadata": {},
   "source": [
    "## Check and fix data types (e.g., age should be int, date as datetime).\n"
   ]
  },
  {
   "cell_type": "code",
   "execution_count": null,
   "id": "b08233a4",
   "metadata": {},
   "outputs": [],
   "source": [
    "\n",
    "df['order_date'] = pd.to_datetime(df['order_date'], errors='coerce')\n",
    "\n",
    "df.dtypes\n"
   ]
  },
  {
   "cell_type": "code",
   "execution_count": null,
   "id": "a6eada25",
   "metadata": {},
   "outputs": [],
   "source": []
  }
 ],
 "metadata": {
  "kernelspec": {
   "display_name": "base",
   "language": "python",
   "name": "python3"
  },
  "language_info": {
   "codemirror_mode": {
    "name": "ipython",
    "version": 3
   },
   "file_extension": ".py",
   "mimetype": "text/x-python",
   "name": "python",
   "nbconvert_exporter": "python",
   "pygments_lexer": "ipython3",
   "version": "3.12.7"
  }
 },
 "nbformat": 4,
 "nbformat_minor": 5
}
